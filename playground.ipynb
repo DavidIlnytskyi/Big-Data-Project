{
 "cells": [
  {
   "cell_type": "code",
   "execution_count": null,
   "metadata": {},
   "outputs": [],
   "source": [
    "from fastapi import FastAPI\n",
    "from cassandra.cluster import Cluster\n",
    "from cassandra.auth import PlainTextAuthProvider\n",
    "from datetime import datetime, timezone, timedelta\n",
    "import pandas as pd\n",
    "import json\n",
    "\n",
    "app = FastAPI()\n",
    "\n",
    "CASSANDRA_HOST = \"localhost\"\n",
    "KEYSPACE = \"wiki_stream\"\n",
    "USERNAME = \"cassandra\"\n",
    "PASSWORD = \"uncommonpass\"\n",
    "\n",
    "auth_provider = PlainTextAuthProvider(USERNAME, PASSWORD)\n",
    "cluster = Cluster([CASSANDRA_HOST], auth_provider=auth_provider)\n",
    "session = cluster.connect(KEYSPACE)\n"
   ]
  },
  {
   "cell_type": "code",
   "execution_count": null,
   "metadata": {},
   "outputs": [],
   "source": [
    "def get_time_borders():\n",
    "    def format_datetime(dt):\n",
    "        return dt.strftime(\"%Y-%m-%d,%H\").split(\",\")\n",
    "\n",
    "    now = datetime.now(timezone.utc)\n",
    "    current_hour = now.replace(minute=0, second=0, microsecond=0)\n",
    "\n",
    "    start_time = current_hour - timedelta(hours=7)\n",
    "    end_time = current_hour - timedelta(hours=1)\n",
    "    start_date, start_hour = format_datetime(start_time)\n",
    "    end_date, end_hour = format_datetime(end_time)\n",
    "    start_date = datetime.strptime(start_date, \"%Y-%m-%d\").date()\n",
    "    end_date = datetime.strptime(end_date, \"%Y-%m-%d\").date()\n",
    "\n",
    "    return start_date, end_date, int(start_hour), int(end_hour)"
   ]
  },
  {
   "cell_type": "code",
   "execution_count": null,
   "metadata": {},
   "outputs": [],
   "source": [
    "def filter_df_by_time(df):\n",
    "    sd, ed, sh, eh = get_time_borders()\n",
    "\n",
    "    a = ((df[\"date\"].apply(lambda x: x.date()) == sd) & (df[\"hour\"] >= sh))\n",
    "    b = ((df[\"date\"].apply(lambda x: x.date()) == ed) & (df[\"hour\"] < eh))\n",
    "\n",
    "    filtered_df = df[a & b] if sd == ed else df[a | b]\n",
    "    return filtered_df"
   ]
  },
  {
   "cell_type": "code",
   "execution_count": null,
   "metadata": {},
   "outputs": [],
   "source": [
    "def agg_one_two(table):\n",
    "    rows = session.execute(f\"SELECT * FROM {table}\")\n",
    "    df = pd.DataFrame(rows.all())\n",
    "\n",
    "    filtered_df = filter_df_by_time(df)\n",
    "    grouped = filtered_df.groupby('hour')\n",
    "\n",
    "    result = []\n",
    "    for hour, group in grouped:\n",
    "        time_start = f\"{hour:02}:00\"\n",
    "        time_end = f\"{(hour + 1) % 24:02}:00\"\n",
    "        stats = [{row['domain']: row['count']} for _, row in group.iterrows()]\n",
    "        result.append({\n",
    "            \"time_start\": time_start,\n",
    "            \"time_end\": time_end,\n",
    "            \"statistics\": stats\n",
    "        })\n",
    "\n",
    "    agg_json = json.dumps(result, indent=2)\n",
    "\n",
    "    return agg_json"
   ]
  },
  {
   "cell_type": "code",
   "execution_count": null,
   "metadata": {},
   "outputs": [],
   "source": [
    "rows = session.execute(\"SELECT * FROM agg_three\")\n",
    "df = pd.DataFrame(rows.all())\n",
    "\n",
    "filtered_df = filter_df_by_time(df)\n",
    "\n",
    "grouped = filtered_df.groupby(['user_name', 'user_id'])\n",
    "\n",
    "result = grouped.agg(\n",
    "    start_time=('timestamp', 'min'),\n",
    "    end_time=('timestamp', 'max'),\n",
    "    pages_created=('page_title', 'count'),\n",
    "    page_titles=('page_title', list)\n",
    ").reset_index()\n",
    "\n",
    "agg_three_json = json.dumps(json.loads(result.sort_values(by='pages_created', ascending=False).head(20).to_json(orient='records', date_format='iso')), indent=2)"
   ]
  },
  {
   "cell_type": "code",
   "execution_count": null,
   "metadata": {},
   "outputs": [],
   "source": [
    "rows = session.execute(\"SELECT * FROM adhoc_one\")\n",
    "df = pd.DataFrame(rows.all())\n",
    "adhoc_one_json = {\"domains\" : list(set(df[\"domain\"].to_list()))}"
   ]
  },
  {
   "cell_type": "code",
   "execution_count": null,
   "metadata": {},
   "outputs": [],
   "source": [
    "user_id = 46051904\n",
    "\n",
    "rows = session.execute(\"SELECT * FROM adhoc_two\")\n",
    "df = pd.DataFrame(rows.all())\n",
    "\n",
    "adhoc_two_json = {\"user_id\": user_id, \"created_pages\" : df[df['user_id'] == user_id][\"url\"].to_list()}"
   ]
  },
  {
   "cell_type": "code",
   "execution_count": 23,
   "metadata": {},
   "outputs": [],
   "source": [
    "specified_domain = \"id.wikipedia.org\"\n",
    "\n",
    "rows = session.execute(\"SELECT * FROM adhoc_one\")\n",
    "df = pd.DataFrame(rows.all())\n",
    "\n",
    "adhoc_three_json = {\"domain\": specified_domain, \"count\" : df[df[\"domain\"] == specified_domain][\"count\"].iloc[0]}"
   ]
  },
  {
   "cell_type": "code",
   "execution_count": 24,
   "metadata": {},
   "outputs": [
    {
     "name": "stdout",
     "output_type": "stream",
     "text": [
      "{'domain': 'id.wikipedia.org', 'count': 18}\n"
     ]
    }
   ],
   "source": [
    "print(adhoc_three_json)"
   ]
  },
  {
   "cell_type": "code",
   "execution_count": null,
   "metadata": {},
   "outputs": [],
   "source": [
    "page_id = 165480052\n",
    "\n",
    "rows = session.execute(\"SELECT * FROM adhoc_four\")\n",
    "df = pd.DataFrame(rows.all())\n",
    "\n",
    "adhoc_four_json = {\"page_id\": page_id, \"url\": df[df[\"page_id\"] == page_id][\"url\"][0]}"
   ]
  },
  {
   "cell_type": "code",
   "execution_count": null,
   "metadata": {},
   "outputs": [],
   "source": [
    "rows = session.execute(\"SELECT * FROM adhoc_five\")\n",
    "df = pd.DataFrame(rows.all())\n",
    "\n",
    "df['timestamp'] = pd.to_datetime(df['timestamp'])\n",
    "start_date = '2025-05-17 20:00'\n",
    "end_date = '2025-05-17 20:08'\n",
    "start_time = pd.Timestamp(start_date)\n",
    "end_time = pd.Timestamp(end_date)\n",
    "\n",
    "filtered = df[(df['timestamp'] >= start_time) & (df['timestamp'] <= end_time)]\n",
    "\n",
    "result = filtered.groupby(['user_id', 'user_name']).size().reset_index(name='pages_created')\n",
    "\n",
    "adhoc_five_json = json.dumps(json.loads(result.to_json(orient='records', date_format='iso')), indent=2)"
   ]
  }
 ],
 "metadata": {
  "kernelspec": {
   "display_name": "Python 3",
   "language": "python",
   "name": "python3"
  },
  "language_info": {
   "codemirror_mode": {
    "name": "ipython",
    "version": 3
   },
   "file_extension": ".py",
   "mimetype": "text/x-python",
   "name": "python",
   "nbconvert_exporter": "python",
   "pygments_lexer": "ipython3",
   "version": "3.10.12"
  }
 },
 "nbformat": 4,
 "nbformat_minor": 2
}
